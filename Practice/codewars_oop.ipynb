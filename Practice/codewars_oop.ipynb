{
 "cells": [
  {
   "cell_type": "code",
   "execution_count": 22,
   "metadata": {},
   "outputs": [
    {
     "name": "stdout",
     "output_type": "stream",
     "text": [
      "5\n"
     ]
    }
   ],
   "source": [
    "scores = [\n",
    "    {\"name\":\"Habanero Hillary\", \"chickenwings\":5 , \"hamburgers\":17, \"hotdogs\":11},\n",
    "    {\"name\":\"Big Bob\" , \"chickenwings\":20, \"hamburgers\":4, \"hotdogs\":11}\n",
    "    ]\n",
    "\n",
    "list1 = ['abc', 'def', 'hig']\n",
    "\n",
    "print(scores[0][\"chickenwings\"])"
   ]
  },
  {
   "cell_type": "code",
   "execution_count": 26,
   "metadata": {},
   "outputs": [
    {
     "name": "stdout",
     "output_type": "stream",
     "text": [
      "Habanero Hillary scored 98 points.\n",
      "Big Bob scored 134 points.\n"
     ]
    }
   ],
   "source": [
    "def hotdogcontest(contestant):\n",
    "    chickenwings=5\n",
    "    hamburgers=3\n",
    "    hotdogs=2\n",
    "    for i in contestant:\n",
    "        chickenwings_pts = chickenwings * int(i[\"chickenwings\"])\n",
    "        hamburgers_pts = hamburgers * int(i[\"hamburgers\"])\n",
    "        hotdogs_pts = hotdogs * int(i[\"hotdogs\"])\n",
    "        total_pts = chickenwings_pts + hamburgers_pts + hotdogs_pts\n",
    "        print(i[\"name\"] + \" scored \" + str(total_pts) + \" points.\")\n",
    "\n",
    "hotdogcontest(scores)"
   ]
  },
  {
   "cell_type": "code",
   "execution_count": 24,
   "metadata": {},
   "outputs": [
    {
     "name": "stdout",
     "output_type": "stream",
     "text": [
      "Habanero Hillary\n",
      "Big Bob\n"
     ]
    }
   ],
   "source": [
    "def hotdogcontest(contestant):\n",
    "    chickenwings=5\n",
    "    hamburgers=3\n",
    "    hotdogs=2\n",
    "    for i in contestant:\n",
    "        print(i[\"name\"])\n",
    "\n",
    "hotdogcontest(scores)"
   ]
  },
  {
   "cell_type": "code",
   "execution_count": 35,
   "metadata": {},
   "outputs": [
    {
     "name": "stdout",
     "output_type": "stream",
     "text": [
      "5\n"
     ]
    }
   ],
   "source": [
    "class Person:\n",
    "    def __init__(self, name, age, rank):\n",
    "        self.name = name\n",
    "        self.age = age\n",
    "        self.rank = 3\n",
    "    def __str__(self):\n",
    "        return f\"My name is {self.name} and I am {self.age} years old\"\n",
    "    def ret(self):\n",
    "        yrs = 65 - self.age\n",
    "        print(yrs)\n",
    "    def rankUp(self):\n",
    "        self.rank = self.rank + 1\n",
    "\n",
    "test = Person(\"John\", 34, 3)\n",
    "\n",
    "\n",
    "\n"
   ]
  }
 ],
 "metadata": {
  "kernelspec": {
   "display_name": "Python 3",
   "language": "python",
   "name": "python3"
  },
  "language_info": {
   "codemirror_mode": {
    "name": "ipython",
    "version": 3
   },
   "file_extension": ".py",
   "mimetype": "text/x-python",
   "name": "python",
   "nbconvert_exporter": "python",
   "pygments_lexer": "ipython3",
   "version": "3.12.7"
  }
 },
 "nbformat": 4,
 "nbformat_minor": 2
}
